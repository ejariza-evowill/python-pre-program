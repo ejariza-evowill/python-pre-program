{
  "cells": [
    {
      "cell_type": "markdown",
      "id": "fb8bc944",
      "metadata": {
        "colab_type": "text",
        "id": "view-in-github"
      },
      "source": [
        "<a href=\"https://colab.research.google.com/github/ejariza-evowill/python-pre-program/blob/main/python_sql_basics.ipynb\" target=\"_parent\"><img src=\"https://colab.research.google.com/assets/colab-badge.svg\" alt=\"Open In Colab\"/></a>"
      ]
    },
    {
      "cell_type": "markdown",
      "id": "cf796612",
      "metadata": {
        "id": "cf796612"
      },
      "source": [
        "# Introduction to Python and SQL for JavaScript Developers\n",
        "\n",
        "This notebook aims to help developers with a JavaScript background learn the basics of Python and SQL.\n",
        "\n",
        "## Topics Covered\n",
        "1. Python Basics\n",
        "2. Differences Between Python and JavaScript\n",
        "3. Basic SQL (using `sqlite3` in Python)\n",
        "\n",
        "Let's get started!"
      ]
    },
    {
      "cell_type": "markdown",
      "id": "840bd3ad",
      "metadata": {
        "id": "840bd3ad"
      },
      "source": [
        "## How to Use This Notebook\n",
        "\n",
        "A Jupyter Notebook is an interactive environment where you can write and execute code in a web browser. You can run each cell by clicking on it and pressing `Shift + Enter`. The output will be displayed below the cell. You can execute it locally on your machine using [Jupyter Notebook](https://jupyter.org/), it also is possible to use vscode with the [Jupyter extension](https://marketplace.visualstudio.com/items?itemName=ms-toolsai.jupyter).\n",
        "\n",
        "In our case are going to use [Google Colab](https://colab.research.google.com/), a free cloud-based Jupyter Notebook environment provided by Google. It allows you to run Python code in your browser without any setup. You can also save your notebooks to Google Drive and share them with others.\n",
        "\n",
        "To be able to save the results of your work, you need to use your Google account.Then you can create a copy of this notebook in your Google Drive by clicking on the \"Copy to Drive\" button at the top right corner of the notebook. This will create a copy of the notebook in your Google Drive, and you can edit it as you like.\n",
        "\n",
        "### What is a Jupyter Notebook?\n",
        "A Jupyter Notebook is an interactive web application that allows you to create and share documents that contain live code, equations, visualizations, and narrative text. It is widely used for data analysis, machine learning, and scientific computing.\n",
        "Jupyter Notebooks are composed of cells, which can be of different types:\n",
        "\n",
        "#### Markdown Cells\n",
        "Markdown cells are used for documentation and explanations. You can write text in Markdown format, which allows you to include headings, lists, links, and more.\n",
        "\n",
        "#### Code Cells\n",
        "Code cells are used to write and execute code. You can write Python code in these cells, and when you run them, the output will be displayed below the cell. You can also run bash commands by prefixing the command with an exclamation mark (`!`)."
      ]
    },
    {
      "cell_type": "code",
      "execution_count": null,
      "id": "0af91cd4",
      "metadata": {},
      "outputs": [],
      "source": [
        "# This code cell will bring us the repository with the necessary files to work in this workshop.\n",
        "# Please run it before starting the workshop.\n",
        "\n",
        "# First, lets clone the repository with the necessary files.\n",
        "!git clone https://github.com/ejariza-evowill/python-pre-program.git \n",
        "\n",
        "# Now we will move the files inside the repository to the current directory.\n",
        "!mv python-pre-program/* ./"
      ]
    },
    {
      "cell_type": "markdown",
      "id": "efa3741b",
      "metadata": {},
      "source": [
        "\n",
        "#### Output Cells\n",
        "Output cells display the results of the code you have executed. This can include text output, tables, plots, and other visualizations.\n"
      ]
    },
    {
      "cell_type": "markdown",
      "id": "d3c6e6bc",
      "metadata": {
        "id": "d3c6e6bc"
      },
      "source": [
        "## 1. Python Basics\n",
        "### 1.1 Environments and Interpreters\n",
        "\n",
        "Python is an interpreted language, which means that the code is executed line by line. This allows for quick testing and debugging. For our purposes, we will be using the Python 3.x interpreter, bundled with the Jupyter Notebook environment. In Jupyter, the kernel is the Python interpreter that runs your code. In other environments (like VSCode), you can choose the interpreter you want to use, usually by choosing an environment.\n",
        "\n",
        "#### Environments\n",
        "\n",
        "In Python, an environment is a self-contained directory that contains a specific version of Python and any additional packages or libraries you may need. This allows you to create isolated environments for different projects, ensuring that dependencies do not conflict with each other.\n",
        "\n",
        "#### requirements.txt\n",
        "A `requirements.txt` file is a text file that lists the packages and their versions required for a Python project. You can create this file manually or use the `pip freeze` command to generate it automatically. "
      ]
    },
    {
      "cell_type": "code",
      "execution_count": null,
      "id": "40425785",
      "metadata": {},
      "outputs": [],
      "source": [
        "# Let's install the requirements for the workshop.\n",
        "!pip install -r requirements.txt"
      ]
    },
    {
      "cell_type": "markdown",
      "id": "7b303b11",
      "metadata": {},
      "source": [
        "In order to make the kernel aware of the packages you have installed, you need to restart the kernel. This is possible to do my pressing the keys `Ctrl + M` and then pressing the key `.`"
      ]
    },
    {
      "cell_type": "markdown",
      "id": "b082c5a2",
      "metadata": {},
      "source": [
        "\n",
        "\n",
        "### 1.1 Variables and Data Types    \n",
        "\n",
        "In JavaScript:\n",
        "```javascript\n",
        "let myNumber = 10;\n",
        "let myString = \"Hello\";\n",
        "let myBool = true;\n",
        "```\n",
        "\n",
        "In Python, we don't need `let` or `var`. Instead, we just write:\n",
        "```python\n",
        "my_number = 10\n",
        "my_string = \"Hello\"\n",
        "my_bool = True\n",
        "```\n",
        "Python is dynamically typed, just like JavaScript, but notice the difference:\n",
        "- Booleans in Python start with a capital letter (`True`, `False`).\n",
        "[(PEP 8 style)](https://peps.python.org/pep-0008/)."
      ]
    },
    {
      "cell_type": "code",
      "execution_count": null,
      "id": "0856c893",
      "metadata": {
        "colab": {
          "base_uri": "https://localhost:8080/"
        },
        "id": "0856c893",
        "outputId": "369c1a45-e9ce-4081-b73a-881982ee30eb"
      },
      "outputs": [],
      "source": [
        "# Let's try it out!\n",
        "my_number = 10\n",
        "my_string = \"Hello from Python!\"\n",
        "my_bool = True\n",
        "\n",
        "print(\"my_number:\", my_number)\n",
        "print(\"my_string:\", my_string)\n",
        "print(\"my_bool:\", my_bool)\n"
      ]
    },
    {
      "cell_type": "markdown",
      "id": "a113e9ad",
      "metadata": {
        "id": "a113e9ad"
      },
      "source": [
        "### 1.2 Basic Operations\n",
        "\n",
        "Like JavaScript, Python can do basic arithmetic:\n",
        "\n",
        "```python\n",
        "1 + 2   # Addition\n",
        "1 - 2   # Subtraction\n",
        "2 * 3   # Multiplication\n",
        "4 / 2   # Division (floating point in Python 3)\n",
        "4 // 2  # Integer division\n",
        "5 % 2   # Modulus\n",
        "2 ** 3  # Exponent\n",
        "```"
      ]
    },
    {
      "cell_type": "code",
      "execution_count": null,
      "id": "0109faaa",
      "metadata": {
        "id": "0109faaa",
        "outputId": "9f50a907-2ed4-4f40-bf2c-0b3274030c5a"
      },
      "outputs": [],
      "source": [
        "# Let's do some arithmetic\n",
        "print(\"1 + 2 =\", 1 + 2)\n",
        "print(\"3 * 4 =\", 3 * 4)\n",
        "print(\"5 / 2 =\", 5 / 2)    # float division\n",
        "print(\"5 // 2 =\", 5 // 2)  # integer division\n",
        "print(\"2 ** 3 =\", 2 ** 3)"
      ]
    },
    {
      "cell_type": "markdown",
      "id": "ba7702b5",
      "metadata": {
        "id": "ba7702b5"
      },
      "source": [
        "### 1.3 Strings\n",
        "\n",
        "Strings in Python can be declared with single or double quotes:\n",
        "\n",
        "```python\n",
        "my_string = 'Hello'\n",
        "another_string = \"World\"\n",
        "```\n",
        "\n",
        "Strings support concatenation, slicing, etc.  \n",
        "In JavaScript, you might do:\n",
        "```javascript\n",
        "let name = \"John\";\n",
        "let greeting = `Hello ${name}!`;\n",
        "```\n",
        "In Python 3.6+, you can use f-strings:\n",
        "```python\n",
        "name = \"John\"\n",
        "greeting = f\"Hello {name}!\"\n",
        "```"
      ]
    },
    {
      "cell_type": "code",
      "execution_count": null,
      "id": "ad781dc4",
      "metadata": {
        "id": "ad781dc4",
        "outputId": "2d88811b-b6c6-4756-c053-97541c091873"
      },
      "outputs": [],
      "source": [
        "# Working with strings\n",
        "name = \"John\"\n",
        "greeting = f\"Hello {name}!\"\n",
        "print(greeting)\n",
        "\n",
        "# Some string methods\n",
        "print(greeting.lower())\n",
        "print(greeting.upper())\n",
        "print(greeting.replace(\"Hello\", \"Hi\"))"
      ]
    },
    {
      "cell_type": "markdown",
      "id": "039e87eb",
      "metadata": {
        "id": "039e87eb"
      },
      "source": [
        "### 1.4 Lists, Tuples, and Dictionaries\n",
        "\n",
        "In JavaScript, we have Arrays (`[]`) and Objects (`{}`) as the core data structures.\n",
        "\n",
        "In Python:\n",
        "- **List** (`[]`): Mutable, ordered sequence.\n",
        "- **Tuple** (`()`): Immutable, ordered sequence.\n",
        "- **Dictionary** (`{}`): Mutable, unordered collection of key-value pairs.\n",
        "- **Set** (`{}`): Mutable, unordered collection of unique elements.\n",
        "\n",
        "Example:\n",
        "```python\n",
        "my_list = [1, 2, 3]\n",
        "my_tuple = (\"apple\", \"banana\", \"cherry\")\n",
        "my_dict = {\"name\": \"Alice\", \"age\": 25}\n",
        "my_set = {1, 2, 3}\n",
        "```"
      ]
    },
    {
      "cell_type": "code",
      "execution_count": null,
      "id": "22f3b04f",
      "metadata": {
        "id": "22f3b04f",
        "outputId": "19e45577-c76f-46aa-8a6e-d533da4e8ab1"
      },
      "outputs": [],
      "source": [
        "# Let's work with lists, tuples, and dictionaries\n",
        "my_list = [10, 20, 30]\n",
        "my_tuple = (\"apple\", \"banana\", \"cherry\")\n",
        "my_dict = {\"name\": \"Alice\", \"age\": 25}\n",
        "my_set = {1, 2, 3, 4, 5, 5, 6}\n",
        "\n",
        "print(\"my_list:\", my_list)\n",
        "print(\"my_tuple:\", my_tuple)\n",
        "print(\"my_dict:\", my_dict)\n",
        "print(\"my_set:\", my_set) # Notice that the duplicate '5' is removed\n",
        "\n",
        "# Modifying the list (lists are mutable)\n",
        "my_list.append(40)\n",
        "print(\"my_list after append:\", my_list)\n",
        "\n",
        "# Trying to modify the tuple would cause an error\n",
        "# my_tuple[0] = \"pear\"  # Uncommenting this line would cause a TypeError\n",
        "\n",
        "# Dictionaries are key-value pairs\n",
        "my_dict[\"job\"] = \"Engineer\"\n",
        "print(\"my_dict after adding a job:\", my_dict)\n",
        "\n",
        "# Adding a new item to the set\n",
        "my_set.add(7)\n",
        "print(\"my_set after adding 7:\", my_set)"
      ]
    },
    {
      "cell_type": "markdown",
      "id": "6b43c3f3",
      "metadata": {
        "id": "6b43c3f3"
      },
      "source": [
        "### 1.5 Control Flow\n",
        "\n",
        "Python uses indentation (4 spaces is standard) to define code blocks, whereas JavaScript uses curly braces.  \n",
        "\n",
        "#### If-Else\n",
        "In JavaScript:\n",
        "```javascript\n",
        "if (condition) {\n",
        "  // do something\n",
        "} else {\n",
        "  // do something else\n",
        "}\n",
        "```\n",
        "In Python:\n",
        "```python\n",
        "if condition:\n",
        "    # do something\n",
        "else:\n",
        "    # do something else\n",
        "```"
      ]
    },
    {
      "cell_type": "code",
      "execution_count": null,
      "id": "8503afaf",
      "metadata": {
        "id": "8503afaf",
        "outputId": "12e8bd69-38db-4b3a-840a-64928822c5cd"
      },
      "outputs": [],
      "source": [
        "# if-else example\n",
        "x = 10\n",
        "if x > 5:\n",
        "    print(\"x is greater than 5\")\n",
        "else:\n",
        "    print(\"x is less or equal to 5\")"
      ]
    },
    {
      "cell_type": "markdown",
      "id": "1a3d1303",
      "metadata": {
        "id": "1a3d1303"
      },
      "source": [
        "### Indentation versus Curly Braces\n",
        "Note that in the above example, Python uses indentation to define the scope of the `if` and `else` blocks, this fullfills the same purpose as curly braces in JavaScript.\n",
        "\n",
        "The indentation level is important in Python, and it must be consistent. Mixing tabs and spaces can lead to errors."
      ]
    },
    {
      "cell_type": "code",
      "execution_count": null,
      "id": "4280c2bd",
      "metadata": {
        "id": "4280c2bd"
      },
      "outputs": [],
      "source": [
        "# This is a well formated python block, with no indentation errors\n",
        "\n",
        "x = 10\n",
        "if x > 5:\n",
        "    if x > 15:\n",
        "        print(\"x is greater than 15\")\n",
        "    else:\n",
        "        print(\"x is greater than 5 but less than or equal to 15\")\n"
      ]
    },
    {
      "cell_type": "markdown",
      "id": "50afe0bf",
      "metadata": {
        "id": "50afe0bf"
      },
      "source": [
        "#### Practical exercise\n",
        "Fix indentation errors in the following code:"
      ]
    },
    {
      "cell_type": "code",
      "execution_count": null,
      "id": "c5b998e6",
      "metadata": {
        "id": "c5b998e6"
      },
      "outputs": [],
      "source": [
        "x = 10\n",
        "if x > 5:\n",
        "print(\"x is greater than 5\")\n",
        "if x > 15:\n",
        "print(\"x is greater than 15\")\n",
        "else:\n",
        "print(\"x is less or equal to 5\")"
      ]
    },
    {
      "cell_type": "markdown",
      "id": "7dbe6eaf",
      "metadata": {
        "id": "7dbe6eaf"
      },
      "source": [
        "#### For Loops\n",
        "In JavaScript:\n",
        "```javascript\n",
        "for (let i = 0; i < 5; i++) {\n",
        "  console.log(i);\n",
        "}\n",
        "```\n",
        "In Python:\n",
        "```python\n",
        "for i in range(5):\n",
        "    print(i)\n",
        "```\n",
        "\n",
        "Where `range(5)` generates numbers from 0 to 4."
      ]
    },
    {
      "cell_type": "code",
      "execution_count": null,
      "id": "7917d737",
      "metadata": {
        "id": "7917d737",
        "outputId": "2d13e31c-2d8f-4802-f0d6-fb2541fe3d1a"
      },
      "outputs": [],
      "source": [
        "# for-loop example\n",
        "for i in range(5):\n",
        "    print(i)"
      ]
    },
    {
      "cell_type": "markdown",
      "id": "108ab1b8",
      "metadata": {
        "id": "108ab1b8"
      },
      "source": [
        "#### While Loops\n",
        "In JavaScript:\n",
        "```javascript\n",
        "let i = 0;\n",
        "while (i < 5) {\n",
        "  console.log(i);\n",
        "  i++;\n",
        "}\n",
        "```\n",
        "In Python:\n",
        "```python\n",
        "i = 0\n",
        "while i < 5:\n",
        "    print(i)\n",
        "    i += 1\n",
        "```"
      ]
    },
    {
      "cell_type": "code",
      "execution_count": null,
      "id": "9d0ed00d",
      "metadata": {
        "id": "9d0ed00d",
        "outputId": "1e4c113a-65c0-4f59-fadf-04e1f4b5aa69"
      },
      "outputs": [],
      "source": [
        "# while-loop example\n",
        "i = 0\n",
        "while i < 5:\n",
        "    print(i)\n",
        "    i += 1"
      ]
    },
    {
      "cell_type": "markdown",
      "id": "0a60dd74",
      "metadata": {
        "id": "0a60dd74"
      },
      "source": [
        "### 1.6 Functions\n",
        "\n",
        "In JavaScript:\n",
        "```javascript\n",
        "function greet(name) {\n",
        "  return `Hello, ${name}!`;\n",
        "}\n",
        "```\n",
        "In Python:\n",
        "```python\n",
        "def greet(name):\n",
        "    return f\"Hello, {name}!\"\n",
        "```\n",
        "\n",
        "#### Annonymous Functions\n",
        "In JavaScript, you can create anonymous functions (also known as arrow functions):\n",
        "```javascript\n",
        "const greet = (name) => {\n",
        "  return `Hello, ${name}!`;\n",
        "};\n",
        "```\n",
        "In Python, you can use `lambda` functions for short, single-expression functions:\n",
        "```python\n",
        "greet = lambda name: f\"Hello, {name}!\"\n",
        "```\n"
      ]
    },
    {
      "cell_type": "code",
      "execution_count": null,
      "id": "4a6a7ecc",
      "metadata": {
        "id": "4a6a7ecc",
        "outputId": "ec649bc1-b0d4-498d-9e8c-2c678ca2ab71"
      },
      "outputs": [],
      "source": [
        "# Defining and calling a function in Python\n",
        "def greet(name):\n",
        "    return f\"Hello, {name}!\"\n",
        "\n",
        "print(greet(\"Alice\"))\n",
        "print(greet(\"Bob\"))"
      ]
    },
    {
      "cell_type": "markdown",
      "id": "a6543553",
      "metadata": {
        "id": "a6543553"
      },
      "source": [
        "### 1.8 Comprehensions\n",
        "In JavaScript, you might use `map` or `filter` to create new arrays based on existing ones:\n",
        "```javascript\n",
        "const numbers = [1, 2, 3, 4];\n",
        "const squares = numbers.map(num => num * num);\n",
        "```\n",
        "In Python, you can use list comprehensions:\n",
        "```python\n",
        "numbers = [1, 2, 3, 4]\n",
        "squares = [num * num for num in numbers]\n",
        "```"
      ]
    },
    {
      "cell_type": "code",
      "execution_count": null,
      "id": "796d01bd",
      "metadata": {
        "id": "796d01bd"
      },
      "outputs": [],
      "source": [
        "# Examples of comprehensions\n",
        "squares = [x**2 for x in range(10)]\n",
        "print(\"Squares:\", squares)\n",
        "cubes = {x: x**3 for x in range(5)}\n",
        "print(\"Cubes:\", cubes)"
      ]
    },
    {
      "cell_type": "markdown",
      "id": "4a71829a",
      "metadata": {
        "id": "4a71829a"
      },
      "source": [
        "### Summary: Main differences Between Python and JavaScript\n",
        "\n",
        "1. **Syntax**: Python uses indentation to define blocks; JavaScript uses curly braces.\n",
        "2. **Variable Declaration**: Python doesn't require `var`, `let`, or `const`; just assign directly.\n",
        "3. **Boolean Values**: `True`/`False` in Python vs. `true`/`false` in JS.\n",
        "4. **Type Conversions**: Both are dynamically typed, but type coercions differ slightly.\n",
        "5. **Community and Ecosystem**: Python is often used for data science, machine learning, scripting, etc.; JavaScript is primarily used for web development (though Node.js has expanded its scope)."
      ]
    },
    {
      "cell_type": "markdown",
      "id": "b5eb4a5a",
      "metadata": {
        "id": "b5eb4a5a"
      },
      "source": [
        "### Practical Exercises\n",
        "\n",
        "Create a new code cell and implement the following:\n",
        "1. Write a function in Python that takes a list of numbers and returns the sum of the even numbers.\n",
        "2. Write a function that takes a string and returns the number of vowels in it.\n",
        "3. Write a function that takes a dictionary and returns a list of its keys. You may find useful the `keys()` method of dictionaries.\n",
        "4. Write a function that takes a list of strings and returns a new list with the lengths of each string, you may find useful the `len()` function.\n",
        "5. Write a function that takes a list of numbers and returns the maximum common divisor (GCD) of the list."
      ]
    },
    {
      "cell_type": "markdown",
      "id": "2a35b186",
      "metadata": {
        "id": "2a35b186"
      },
      "source": [
        "## 2. Basic SQL with Python\n",
        "\n",
        "### 2.1 Introduction to SQL\n",
        "SQL (Structured Query Language) is a standard language for managing and manipulating databases. It allows you to perform operations like querying data, inserting new records, updating existing records, and deleting records.\n",
        "SQL is used in various database systems, including MySQL, PostgreSQL, SQLite, and others. In this notebook, we will use SQLite for demonstration purposes.\n",
        "SQLite is a lightweight, serverless database engine that is easy to set up and use. It is included with Python's standard library, so you don't need to install anything extra.\n",
        "\n",
        "We can use Python's built-in `sqlite3` module to run SQL queries on a local, file-based database.\n",
        "\n",
        "### 2.2 Creating a Simple Database\n",
        "We'll create a SQLite db to keep things simple. We are going to load the data from `employees.sql` file, which contains a database of employees, and contains the following tables:\n",
        "\n",
        "1. departments\n",
        "- This table stores all the departments (e.g., Finance, Engineering, etc.).\n",
        "\n",
        "2. employees\n",
        "- This table stores individual employee records. Each employee is linked to exactly one department via the dept_id foreign key.\n",
        "\n",
        "3. projects\n",
        "- This table stores project information (e.g., Project Alpha, Project Beta, etc.).\n",
        "\n",
        "4. employee_projects (join table for a many-to-many relationship)\n",
        "- This table indicates which employee(s) are assigned to which project(s). The foreign key constraints ensure emp_id and project_id in this table match valid entries in employees and projects, respectively."
      ]
    },
    {
      "cell_type": "code",
      "execution_count": null,
      "id": "57d330f1",
      "metadata": {
        "id": "57d330f1"
      },
      "outputs": [],
      "source": [
        "import sqlite3\n",
        "\n",
        "# Create an employees.db\n",
        "conn = sqlite3.connect('employees.db')\n",
        "c = conn.cursor()\n",
        "\n",
        "# Load the data from employees.sql\n",
        "with open('employees.sql', 'r') as f:\n",
        "    sql_script = f.read()\n",
        "c.executescript(sql_script)\n",
        "conn.commit()\n",
        "# Query the database\n",
        "c.execute(\"SELECT * FROM employees LIMIT 5\")\n",
        "rows = c.fetchall()\n",
        "for row in rows:\n",
        "    print(row)\n",
        "# Close the connection\n",
        "conn.close()\n"
      ]
    },
    {
      "cell_type": "markdown",
      "id": "3535f820",
      "metadata": {},
      "source": [
        "In jupyter notebooks is also possible to execute SQL queries directly using the `%%sql` magic command. This allows you to run SQL queries directly in a code cell, and the results will be displayed in a table format. Let's give a try."
      ]
    },
    {
      "cell_type": "code",
      "execution_count": null,
      "id": "d06dbd4a",
      "metadata": {},
      "outputs": [],
      "source": [
        "# Let's load the sql extension first\n",
        "%load_ext sql"
      ]
    },
    {
      "cell_type": "code",
      "execution_count": null,
      "id": "8921b3af",
      "metadata": {},
      "outputs": [],
      "source": [
        "%%sql sqlite:///employees.db\n",
        "SELECT * FROM employees LIMIT 5"
      ]
    },
    {
      "cell_type": "markdown",
      "id": "ce74eff3",
      "metadata": {
        "id": "ce74eff3"
      },
      "source": [
        "### 2.3 Inserting Data\n",
        "In SQL, we use `INSERT INTO table_name (columns) VALUES (...)`.  \n",
        "We'll insert a few sample rows."
      ]
    },
    {
      "cell_type": "code",
      "execution_count": null,
      "id": "81195d13",
      "metadata": {
        "id": "81195d13"
      },
      "outputs": [],
      "source": [
        "%%sql sqlite:///employees.db\n",
        "\n",
        "-- Let's count the number of employees\n",
        "SELECT COUNT(*) FROM employees\n"
      ]
    },
    {
      "cell_type": "code",
      "execution_count": null,
      "id": "9732fcc1",
      "metadata": {},
      "outputs": [],
      "source": [
        "\n",
        "%%sql sqlite:///employees.db\n",
        "\n",
        "-- Let's add new employees\n",
        "INSERT INTO employees (first_name, last_name, dept_id, salary, hire_date)\n",
        "VALUES ('Juan', 'Perez', 1, 50000, '2023-01-01'),\n",
        "       ('Pedro', 'Rodriguez', 2, 60000, '2023-02-01');"
      ]
    },
    {
      "cell_type": "code",
      "execution_count": null,
      "id": "f6fd3091",
      "metadata": {},
      "outputs": [],
      "source": [
        "%%sql sqlite:///employees.db\n",
        "-- Let's see how many employees we have now\n",
        "SELECT COUNT(*) FROM employees"
      ]
    },
    {
      "cell_type": "markdown",
      "id": "80c12720",
      "metadata": {
        "id": "80c12720"
      },
      "source": [
        "### 3.3 Querying Data\n",
        "Use `SELECT` statements to fetch data.\n",
        "\n",
        "we can use the WHERE clause to filter results."
      ]
    },
    {
      "cell_type": "code",
      "execution_count": null,
      "id": "babaf230",
      "metadata": {
        "id": "babaf230"
      },
      "outputs": [],
      "source": [
        "%%sql sqlite:///employees.db\n",
        "-- Let's see the employees we just added\n",
        "SELECT * FROM employees WHERE first_name IN ('Juan', 'Pedro')"
      ]
    },
    {
      "cell_type": "markdown",
      "id": "6a23a534",
      "metadata": {
        "id": "6a23a534"
      },
      "source": [
        "### 3.4 Updating and Deleting\n",
        "We can update or delete rows with SQL statements (`UPDATE`, `DELETE`)."
      ]
    },
    {
      "cell_type": "code",
      "execution_count": null,
      "id": "a81410f3",
      "metadata": {
        "id": "a81410f3"
      },
      "outputs": [],
      "source": [
        "%%sql sqlite:///employees.db\n",
        "-- Let's update the salary of Juan\n",
        "UPDATE employees SET salary = 55000 WHERE first_name = 'Juan';"
      ]
    },
    {
      "cell_type": "code",
      "execution_count": null,
      "id": "caba72ae",
      "metadata": {},
      "outputs": [],
      "source": [
        "%%sql sqlite:///employees.db\n",
        "-- Let's see the results of the update\n",
        "SELECT * FROM employees WHERE first_name = 'Juan'"
      ]
    }
  ],
  "metadata": {
    "colab": {
      "include_colab_link": true,
      "provenance": []
    },
    "kernelspec": {
      "display_name": ".venv",
      "language": "python",
      "name": "python3"
    },
    "language_info": {
      "codemirror_mode": {
        "name": "ipython",
        "version": 3
      },
      "file_extension": ".py",
      "mimetype": "text/x-python",
      "name": "python",
      "nbconvert_exporter": "python",
      "pygments_lexer": "ipython3",
      "version": "3.12.3"
    }
  },
  "nbformat": 4,
  "nbformat_minor": 5
}
